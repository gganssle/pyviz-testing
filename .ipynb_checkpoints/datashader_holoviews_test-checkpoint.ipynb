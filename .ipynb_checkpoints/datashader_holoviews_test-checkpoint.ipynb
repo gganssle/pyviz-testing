{
 "cells": [
  {
   "cell_type": "code",
   "execution_count": 22,
   "metadata": {},
   "outputs": [],
   "source": [
    "import numpy as np\n",
    "import pandas as pd\n",
    "\n",
    "from bokeh.plotting import figure\n",
    "from bokeh.io import show, output_notebook, push_notebook\n",
    "\n",
    "import datashader as ds\n",
    "import datashader.transfer_functions as tf\n",
    "\n"
   ]
  },
  {
   "cell_type": "code",
   "execution_count": 2,
   "metadata": {},
   "outputs": [
    {
     "data": {
      "text/html": [
       "\n",
       "    <div class=\"bk-root\">\n",
       "        <a href=\"https://bokeh.pydata.org\" target=\"_blank\" class=\"bk-logo bk-logo-small bk-logo-notebook\"></a>\n",
       "        <span id=\"6dfeef5c-51b9-4564-a15d-0f8607d6887b\">Loading BokehJS ...</span>\n",
       "    </div>"
      ]
     },
     "metadata": {},
     "output_type": "display_data"
    },
    {
     "data": {
      "application/javascript": [
       "\n",
       "(function(root) {\n",
       "  function now() {\n",
       "    return new Date();\n",
       "  }\n",
       "\n",
       "  var force = true;\n",
       "\n",
       "  if (typeof (root._bokeh_onload_callbacks) === \"undefined\" || force === true) {\n",
       "    root._bokeh_onload_callbacks = [];\n",
       "    root._bokeh_is_loading = undefined;\n",
       "  }\n",
       "\n",
       "\n",
       "  \n",
       "  if (typeof (root._bokeh_timeout) === \"undefined\" || force === true) {\n",
       "    root._bokeh_timeout = Date.now() + 5000;\n",
       "    root._bokeh_failed_load = false;\n",
       "  }\n",
       "\n",
       "  var NB_LOAD_WARNING = {'data': {'text/html':\n",
       "     \"<div style='background-color: #fdd'>\\n\"+\n",
       "     \"<p>\\n\"+\n",
       "     \"BokehJS does not appear to have successfully loaded. If loading BokehJS from CDN, this \\n\"+\n",
       "     \"may be due to a slow or bad network connection. Possible fixes:\\n\"+\n",
       "     \"</p>\\n\"+\n",
       "     \"<ul>\\n\"+\n",
       "     \"<li>re-rerun `output_notebook()` to attempt to load from CDN again, or</li>\\n\"+\n",
       "     \"<li>use INLINE resources instead, as so:</li>\\n\"+\n",
       "     \"</ul>\\n\"+\n",
       "     \"<code>\\n\"+\n",
       "     \"from bokeh.resources import INLINE\\n\"+\n",
       "     \"output_notebook(resources=INLINE)\\n\"+\n",
       "     \"</code>\\n\"+\n",
       "     \"</div>\"}};\n",
       "\n",
       "  function display_loaded() {\n",
       "    if (root.Bokeh !== undefined) {\n",
       "      var el = document.getElementById(\"6dfeef5c-51b9-4564-a15d-0f8607d6887b\");\n",
       "      if (el != null) {\n",
       "        el.textContent = \"BokehJS \" + Bokeh.version + \" successfully loaded.\";\n",
       "      }\n",
       "    } else if (Date.now() < root._bokeh_timeout) {\n",
       "      setTimeout(display_loaded, 100)\n",
       "    }\n",
       "  }\n",
       "\n",
       "\n",
       "  function run_callbacks() {\n",
       "    try {\n",
       "      root._bokeh_onload_callbacks.forEach(function(callback) { callback() });\n",
       "    }\n",
       "    finally {\n",
       "      delete root._bokeh_onload_callbacks\n",
       "    }\n",
       "    console.info(\"Bokeh: all callbacks have finished\");\n",
       "  }\n",
       "\n",
       "  function load_libs(js_urls, callback) {\n",
       "    root._bokeh_onload_callbacks.push(callback);\n",
       "    if (root._bokeh_is_loading > 0) {\n",
       "      console.log(\"Bokeh: BokehJS is being loaded, scheduling callback at\", now());\n",
       "      return null;\n",
       "    }\n",
       "    if (js_urls == null || js_urls.length === 0) {\n",
       "      run_callbacks();\n",
       "      return null;\n",
       "    }\n",
       "    console.log(\"Bokeh: BokehJS not loaded, scheduling load and callback at\", now());\n",
       "    root._bokeh_is_loading = js_urls.length;\n",
       "    for (var i = 0; i < js_urls.length; i++) {\n",
       "      var url = js_urls[i];\n",
       "      var s = document.createElement('script');\n",
       "      s.src = url;\n",
       "      s.async = false;\n",
       "      s.onreadystatechange = s.onload = function() {\n",
       "        root._bokeh_is_loading--;\n",
       "        if (root._bokeh_is_loading === 0) {\n",
       "          console.log(\"Bokeh: all BokehJS libraries loaded\");\n",
       "          run_callbacks()\n",
       "        }\n",
       "      };\n",
       "      s.onerror = function() {\n",
       "        console.warn(\"failed to load library \" + url);\n",
       "      };\n",
       "      console.log(\"Bokeh: injecting script tag for BokehJS library: \", url);\n",
       "      document.getElementsByTagName(\"head\")[0].appendChild(s);\n",
       "    }\n",
       "  };var element = document.getElementById(\"6dfeef5c-51b9-4564-a15d-0f8607d6887b\");\n",
       "  if (element == null) {\n",
       "    console.log(\"Bokeh: ERROR: autoload.js configured with elementid '6dfeef5c-51b9-4564-a15d-0f8607d6887b' but no matching script tag was found. \")\n",
       "    return false;\n",
       "  }\n",
       "\n",
       "  var js_urls = [\"https://cdn.pydata.org/bokeh/release/bokeh-0.12.7.min.js\", \"https://cdn.pydata.org/bokeh/release/bokeh-widgets-0.12.7.min.js\", \"https://cdn.pydata.org/bokeh/release/bokeh-tables-0.12.7.min.js\", \"https://cdn.pydata.org/bokeh/release/bokeh-gl-0.12.7.min.js\"];\n",
       "\n",
       "  var inline_js = [\n",
       "    function(Bokeh) {\n",
       "      Bokeh.set_log_level(\"info\");\n",
       "    },\n",
       "    \n",
       "    function(Bokeh) {\n",
       "      \n",
       "    },\n",
       "    \n",
       "    function(Bokeh) {\n",
       "      \n",
       "      document.getElementById(\"6dfeef5c-51b9-4564-a15d-0f8607d6887b\").textContent = \"BokehJS is loading...\";\n",
       "    },\n",
       "    function(Bokeh) {\n",
       "      console.log(\"Bokeh: injecting CSS: https://cdn.pydata.org/bokeh/release/bokeh-0.12.7.min.css\");\n",
       "      Bokeh.embed.inject_css(\"https://cdn.pydata.org/bokeh/release/bokeh-0.12.7.min.css\");\n",
       "      console.log(\"Bokeh: injecting CSS: https://cdn.pydata.org/bokeh/release/bokeh-widgets-0.12.7.min.css\");\n",
       "      Bokeh.embed.inject_css(\"https://cdn.pydata.org/bokeh/release/bokeh-widgets-0.12.7.min.css\");\n",
       "      console.log(\"Bokeh: injecting CSS: https://cdn.pydata.org/bokeh/release/bokeh-tables-0.12.7.min.css\");\n",
       "      Bokeh.embed.inject_css(\"https://cdn.pydata.org/bokeh/release/bokeh-tables-0.12.7.min.css\");\n",
       "    }\n",
       "  ];\n",
       "\n",
       "  function run_inline_js() {\n",
       "    \n",
       "    if ((root.Bokeh !== undefined) || (force === true)) {\n",
       "      for (var i = 0; i < inline_js.length; i++) {\n",
       "        inline_js[i].call(root, root.Bokeh);\n",
       "      }if (force === true) {\n",
       "        display_loaded();\n",
       "      }} else if (Date.now() < root._bokeh_timeout) {\n",
       "      setTimeout(run_inline_js, 100);\n",
       "    } else if (!root._bokeh_failed_load) {\n",
       "      console.log(\"Bokeh: BokehJS failed to load within specified timeout.\");\n",
       "      root._bokeh_failed_load = true;\n",
       "    } else if (force !== true) {\n",
       "      var cell = $(document.getElementById(\"6dfeef5c-51b9-4564-a15d-0f8607d6887b\")).parents('.cell').data().cell;\n",
       "      cell.output_area.append_execute_result(NB_LOAD_WARNING)\n",
       "    }\n",
       "\n",
       "  }\n",
       "\n",
       "  if (root._bokeh_is_loading === 0) {\n",
       "    console.log(\"Bokeh: BokehJS loaded, going straight to plotting\");\n",
       "    run_inline_js();\n",
       "  } else {\n",
       "    load_libs(js_urls, function() {\n",
       "      console.log(\"Bokeh: BokehJS plotting callback run at\", now());\n",
       "      run_inline_js();\n",
       "    });\n",
       "  }\n",
       "}(window));"
      ]
     },
     "metadata": {},
     "output_type": "display_data"
    }
   ],
   "source": [
    "output_notebook()"
   ]
  },
  {
   "cell_type": "code",
   "execution_count": 35,
   "metadata": {
    "collapsed": true
   },
   "outputs": [],
   "source": [
    "x = np.linspace(0, 100, num=1000000000)\n",
    "y = np.sin(x)"
   ]
  },
  {
   "cell_type": "code",
   "execution_count": 4,
   "metadata": {},
   "outputs": [
    {
     "name": "stderr",
     "output_type": "stream",
     "text": [
      "IOPub data rate exceeded.\n",
      "The notebook server will temporarily stop sending output\n",
      "to the client in order to avoid crashing it.\n",
      "To change this limit, set the config variable\n",
      "`--NotebookApp.iopub_data_rate_limit`.\n"
     ]
    },
    {
     "name": "stdout",
     "output_type": "stream",
     "text": [
      "CPU times: user 23.3 s, sys: 2.94 s, total: 26.3 s\n",
      "Wall time: 26.1 s\n"
     ]
    }
   ],
   "source": [
    "%%time\n",
    "\n",
    "p1 = figure(plot_width=900, plot_height=250)\n",
    "\n",
    "r1 = p1.circle(x,y)\n",
    "r2 = p1.line(x,y)\n",
    "\n",
    "show(p1, notebook_handle=True)"
   ]
  },
  {
   "cell_type": "code",
   "execution_count": 36,
   "metadata": {},
   "outputs": [],
   "source": [
    "df = pd.DataFrame(data=np.stack((x,y), axis=1), columns=['x_col','y_col'])"
   ]
  },
  {
   "cell_type": "code",
   "execution_count": 39,
   "metadata": {},
   "outputs": [
    {
     "name": "stdout",
     "output_type": "stream",
     "text": [
      "CPU times: user 5.57 s, sys: 4.25 ms, total: 5.58 s\n",
      "Wall time: 5.58 s\n"
     ]
    }
   ],
   "source": [
    "%%time\n",
    "cvs = ds.Canvas(plot_width=900, plot_height=250)\n",
    "agg = cvs.points(df, 'x_col', 'y_col')\n",
    "img = tf.shade(agg, cmap=['lightblue', 'darkblue'], how='log')"
   ]
  },
  {
   "cell_type": "code",
   "execution_count": 40,
   "metadata": {},
   "outputs": [
    {
     "data": {
      "image/png": "[encoded data removed]",
      "text/html": [
       "<img style=\"margin: auto; border:1px solid\" src='data:image/png;base64,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'/>"
      ],
      "text/plain": [
       "<xarray.Image (y_col: 250, x_col: 900)>\n",
       "array([[0, 0, 0, ..., 0, 0, 0],\n",
       "       [0, 0, 0, ..., 0, 0, 0],\n",
       "       [0, 0, 0, ..., 0, 0, 0],\n",
       "       ..., \n",
       "       [0, 0, 0, ..., 0, 0, 0],\n",
       "       [0, 0, 0, ..., 0, 0, 0],\n",
       "       [0, 0, 0, ..., 0, 0, 0]], dtype=uint32)\n",
       "Coordinates:\n",
       "  * y_col    (y_col) float64 -0.996 -0.988 -0.98 -0.972 -0.964 -0.956 -0.948 ...\n",
       "  * x_col    (x_col) float64 0.05556 0.1667 0.2778 0.3889 0.5 0.6111 0.7222 ..."
      ]
     },
     "execution_count": 40,
     "metadata": {},
     "output_type": "execute_result"
    }
   ],
   "source": [
    "img"
   ]
  },
  {
   "cell_type": "code",
   "execution_count": null,
   "metadata": {
    "collapsed": true
   },
   "outputs": [],
   "source": []
  }
 ],
 "metadata": {
  "kernelspec": {
   "display_name": "Python 3",
   "language": "python",
   "name": "python3"
  },
  "language_info": {
   "codemirror_mode": {
    "name": "ipython",
    "version": 3
   },
   "file_extension": ".py",
   "mimetype": "text/x-python",
   "name": "python",
   "nbconvert_exporter": "python",
   "pygments_lexer": "ipython3",
   "version": "3.6.2"
  }
 },
 "nbformat": 4,
 "nbformat_minor": 2
}
